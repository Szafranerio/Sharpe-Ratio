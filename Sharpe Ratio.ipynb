{
 "cells": [
  {
   "cell_type": "code",
   "execution_count": 1,
   "metadata": {},
   "outputs": [],
   "source": [
    "import pandas as pd\n",
    "import numpy as np"
   ]
  },
  {
   "cell_type": "code",
   "execution_count": 2,
   "metadata": {},
   "outputs": [],
   "source": [
    "apple = pd.read_csv('apple.csv',index_col='Date', parse_dates=True)\n",
    "msft = pd.read_csv('msft.csv', index_col='Date', parse_dates=True)"
   ]
  },
  {
   "cell_type": "code",
   "execution_count": 3,
   "metadata": {},
   "outputs": [
    {
     "name": "stdout",
     "output_type": "stream",
     "text": [
      "<class 'pandas.core.frame.DataFrame'>\n",
      "DatetimeIndex: 1425 entries, 2015-12-31 to 2021-08-27\n",
      "Data columns (total 6 columns):\n",
      " #   Column     Non-Null Count  Dtype  \n",
      "---  ------     --------------  -----  \n",
      " 0   Open       1425 non-null   float64\n",
      " 1   High       1425 non-null   float64\n",
      " 2   Low        1425 non-null   float64\n",
      " 3   Close      1425 non-null   float64\n",
      " 4   Adj Close  1425 non-null   float64\n",
      " 5   Volume     1425 non-null   int64  \n",
      "dtypes: float64(5), int64(1)\n",
      "memory usage: 77.9 KB\n"
     ]
    }
   ],
   "source": [
    "apple.info()"
   ]
  },
  {
   "cell_type": "code",
   "execution_count": 4,
   "metadata": {},
   "outputs": [
    {
     "data": {
      "text/html": [
       "<div>\n",
       "<style scoped>\n",
       "    .dataframe tbody tr th:only-of-type {\n",
       "        vertical-align: middle;\n",
       "    }\n",
       "\n",
       "    .dataframe tbody tr th {\n",
       "        vertical-align: top;\n",
       "    }\n",
       "\n",
       "    .dataframe thead th {\n",
       "        text-align: right;\n",
       "    }\n",
       "</style>\n",
       "<table border=\"1\" class=\"dataframe\">\n",
       "  <thead>\n",
       "    <tr style=\"text-align: right;\">\n",
       "      <th></th>\n",
       "      <th>Open</th>\n",
       "      <th>High</th>\n",
       "      <th>Low</th>\n",
       "      <th>Close</th>\n",
       "      <th>Adj Close</th>\n",
       "      <th>Volume</th>\n",
       "    </tr>\n",
       "    <tr>\n",
       "      <th>Date</th>\n",
       "      <th></th>\n",
       "      <th></th>\n",
       "      <th></th>\n",
       "      <th></th>\n",
       "      <th></th>\n",
       "      <th></th>\n",
       "    </tr>\n",
       "  </thead>\n",
       "  <tbody>\n",
       "    <tr>\n",
       "      <th>2015-12-31</th>\n",
       "      <td>26.752501</td>\n",
       "      <td>26.757500</td>\n",
       "      <td>26.205000</td>\n",
       "      <td>26.315001</td>\n",
       "      <td>24.266081</td>\n",
       "      <td>163649200</td>\n",
       "    </tr>\n",
       "    <tr>\n",
       "      <th>2016-01-04</th>\n",
       "      <td>25.652500</td>\n",
       "      <td>26.342501</td>\n",
       "      <td>25.500000</td>\n",
       "      <td>26.337500</td>\n",
       "      <td>24.286833</td>\n",
       "      <td>270597600</td>\n",
       "    </tr>\n",
       "    <tr>\n",
       "      <th>2016-01-05</th>\n",
       "      <td>26.437500</td>\n",
       "      <td>26.462500</td>\n",
       "      <td>25.602501</td>\n",
       "      <td>25.677500</td>\n",
       "      <td>23.678219</td>\n",
       "      <td>223164000</td>\n",
       "    </tr>\n",
       "    <tr>\n",
       "      <th>2016-01-06</th>\n",
       "      <td>25.139999</td>\n",
       "      <td>25.592501</td>\n",
       "      <td>24.967501</td>\n",
       "      <td>25.174999</td>\n",
       "      <td>23.214844</td>\n",
       "      <td>273829600</td>\n",
       "    </tr>\n",
       "    <tr>\n",
       "      <th>2016-01-07</th>\n",
       "      <td>24.670000</td>\n",
       "      <td>25.032499</td>\n",
       "      <td>24.107500</td>\n",
       "      <td>24.112499</td>\n",
       "      <td>22.235069</td>\n",
       "      <td>324377600</td>\n",
       "    </tr>\n",
       "  </tbody>\n",
       "</table>\n",
       "</div>"
      ],
      "text/plain": [
       "                 Open       High        Low      Close  Adj Close     Volume\n",
       "Date                                                                        \n",
       "2015-12-31  26.752501  26.757500  26.205000  26.315001  24.266081  163649200\n",
       "2016-01-04  25.652500  26.342501  25.500000  26.337500  24.286833  270597600\n",
       "2016-01-05  26.437500  26.462500  25.602501  25.677500  23.678219  223164000\n",
       "2016-01-06  25.139999  25.592501  24.967501  25.174999  23.214844  273829600\n",
       "2016-01-07  24.670000  25.032499  24.107500  24.112499  22.235069  324377600"
      ]
     },
     "execution_count": 4,
     "metadata": {},
     "output_type": "execute_result"
    }
   ],
   "source": [
    "apple.head()"
   ]
  },
  {
   "cell_type": "code",
   "execution_count": 5,
   "metadata": {},
   "outputs": [],
   "source": [
    "#Compute daily returns\n",
    "apple['Daily Returns'] = apple['Adj Close'].pct_change(1)\n",
    "msft['Daily Returns'] = msft['Adj Close'].pct_change(1)"
   ]
  },
  {
   "cell_type": "code",
   "execution_count": 6,
   "metadata": {},
   "outputs": [
    {
     "data": {
      "text/html": [
       "<div>\n",
       "<style scoped>\n",
       "    .dataframe tbody tr th:only-of-type {\n",
       "        vertical-align: middle;\n",
       "    }\n",
       "\n",
       "    .dataframe tbody tr th {\n",
       "        vertical-align: top;\n",
       "    }\n",
       "\n",
       "    .dataframe thead th {\n",
       "        text-align: right;\n",
       "    }\n",
       "</style>\n",
       "<table border=\"1\" class=\"dataframe\">\n",
       "  <thead>\n",
       "    <tr style=\"text-align: right;\">\n",
       "      <th></th>\n",
       "      <th>Open</th>\n",
       "      <th>High</th>\n",
       "      <th>Low</th>\n",
       "      <th>Close</th>\n",
       "      <th>Adj Close</th>\n",
       "      <th>Volume</th>\n",
       "      <th>Daily Returns</th>\n",
       "    </tr>\n",
       "    <tr>\n",
       "      <th>Date</th>\n",
       "      <th></th>\n",
       "      <th></th>\n",
       "      <th></th>\n",
       "      <th></th>\n",
       "      <th></th>\n",
       "      <th></th>\n",
       "      <th></th>\n",
       "    </tr>\n",
       "  </thead>\n",
       "  <tbody>\n",
       "    <tr>\n",
       "      <th>2015-12-31</th>\n",
       "      <td>26.752501</td>\n",
       "      <td>26.757500</td>\n",
       "      <td>26.205000</td>\n",
       "      <td>26.315001</td>\n",
       "      <td>24.266081</td>\n",
       "      <td>163649200</td>\n",
       "      <td>NaN</td>\n",
       "    </tr>\n",
       "    <tr>\n",
       "      <th>2016-01-04</th>\n",
       "      <td>25.652500</td>\n",
       "      <td>26.342501</td>\n",
       "      <td>25.500000</td>\n",
       "      <td>26.337500</td>\n",
       "      <td>24.286833</td>\n",
       "      <td>270597600</td>\n",
       "      <td>0.000855</td>\n",
       "    </tr>\n",
       "    <tr>\n",
       "      <th>2016-01-05</th>\n",
       "      <td>26.437500</td>\n",
       "      <td>26.462500</td>\n",
       "      <td>25.602501</td>\n",
       "      <td>25.677500</td>\n",
       "      <td>23.678219</td>\n",
       "      <td>223164000</td>\n",
       "      <td>-0.025059</td>\n",
       "    </tr>\n",
       "    <tr>\n",
       "      <th>2016-01-06</th>\n",
       "      <td>25.139999</td>\n",
       "      <td>25.592501</td>\n",
       "      <td>24.967501</td>\n",
       "      <td>25.174999</td>\n",
       "      <td>23.214844</td>\n",
       "      <td>273829600</td>\n",
       "      <td>-0.019570</td>\n",
       "    </tr>\n",
       "    <tr>\n",
       "      <th>2016-01-07</th>\n",
       "      <td>24.670000</td>\n",
       "      <td>25.032499</td>\n",
       "      <td>24.107500</td>\n",
       "      <td>24.112499</td>\n",
       "      <td>22.235069</td>\n",
       "      <td>324377600</td>\n",
       "      <td>-0.042205</td>\n",
       "    </tr>\n",
       "  </tbody>\n",
       "</table>\n",
       "</div>"
      ],
      "text/plain": [
       "                 Open       High        Low      Close  Adj Close     Volume  \\\n",
       "Date                                                                           \n",
       "2015-12-31  26.752501  26.757500  26.205000  26.315001  24.266081  163649200   \n",
       "2016-01-04  25.652500  26.342501  25.500000  26.337500  24.286833  270597600   \n",
       "2016-01-05  26.437500  26.462500  25.602501  25.677500  23.678219  223164000   \n",
       "2016-01-06  25.139999  25.592501  24.967501  25.174999  23.214844  273829600   \n",
       "2016-01-07  24.670000  25.032499  24.107500  24.112499  22.235069  324377600   \n",
       "\n",
       "            Daily Returns  \n",
       "Date                       \n",
       "2015-12-31            NaN  \n",
       "2016-01-04       0.000855  \n",
       "2016-01-05      -0.025059  \n",
       "2016-01-06      -0.019570  \n",
       "2016-01-07      -0.042205  "
      ]
     },
     "execution_count": 6,
     "metadata": {},
     "output_type": "execute_result"
    }
   ],
   "source": [
    "apple.head()"
   ]
  },
  {
   "cell_type": "code",
   "execution_count": 7,
   "metadata": {},
   "outputs": [],
   "source": [
    "#Delete the NaN values because they will be problematic with future calcualtions\n",
    "apple = apple.dropna()\n",
    "msft = msft.dropna()"
   ]
  },
  {
   "cell_type": "code",
   "execution_count": 8,
   "metadata": {},
   "outputs": [
    {
     "data": {
      "text/html": [
       "<div>\n",
       "<style scoped>\n",
       "    .dataframe tbody tr th:only-of-type {\n",
       "        vertical-align: middle;\n",
       "    }\n",
       "\n",
       "    .dataframe tbody tr th {\n",
       "        vertical-align: top;\n",
       "    }\n",
       "\n",
       "    .dataframe thead th {\n",
       "        text-align: right;\n",
       "    }\n",
       "</style>\n",
       "<table border=\"1\" class=\"dataframe\">\n",
       "  <thead>\n",
       "    <tr style=\"text-align: right;\">\n",
       "      <th></th>\n",
       "      <th>Open</th>\n",
       "      <th>High</th>\n",
       "      <th>Low</th>\n",
       "      <th>Close</th>\n",
       "      <th>Adj Close</th>\n",
       "      <th>Volume</th>\n",
       "      <th>Daily Returns</th>\n",
       "    </tr>\n",
       "    <tr>\n",
       "      <th>Date</th>\n",
       "      <th></th>\n",
       "      <th></th>\n",
       "      <th></th>\n",
       "      <th></th>\n",
       "      <th></th>\n",
       "      <th></th>\n",
       "      <th></th>\n",
       "    </tr>\n",
       "  </thead>\n",
       "  <tbody>\n",
       "    <tr>\n",
       "      <th>2016-01-04</th>\n",
       "      <td>25.652500</td>\n",
       "      <td>26.342501</td>\n",
       "      <td>25.500000</td>\n",
       "      <td>26.337500</td>\n",
       "      <td>24.286833</td>\n",
       "      <td>270597600</td>\n",
       "      <td>0.000855</td>\n",
       "    </tr>\n",
       "    <tr>\n",
       "      <th>2016-01-05</th>\n",
       "      <td>26.437500</td>\n",
       "      <td>26.462500</td>\n",
       "      <td>25.602501</td>\n",
       "      <td>25.677500</td>\n",
       "      <td>23.678219</td>\n",
       "      <td>223164000</td>\n",
       "      <td>-0.025059</td>\n",
       "    </tr>\n",
       "    <tr>\n",
       "      <th>2016-01-06</th>\n",
       "      <td>25.139999</td>\n",
       "      <td>25.592501</td>\n",
       "      <td>24.967501</td>\n",
       "      <td>25.174999</td>\n",
       "      <td>23.214844</td>\n",
       "      <td>273829600</td>\n",
       "      <td>-0.019570</td>\n",
       "    </tr>\n",
       "    <tr>\n",
       "      <th>2016-01-07</th>\n",
       "      <td>24.670000</td>\n",
       "      <td>25.032499</td>\n",
       "      <td>24.107500</td>\n",
       "      <td>24.112499</td>\n",
       "      <td>22.235069</td>\n",
       "      <td>324377600</td>\n",
       "      <td>-0.042205</td>\n",
       "    </tr>\n",
       "    <tr>\n",
       "      <th>2016-01-08</th>\n",
       "      <td>24.637501</td>\n",
       "      <td>24.777500</td>\n",
       "      <td>24.190001</td>\n",
       "      <td>24.240000</td>\n",
       "      <td>22.352642</td>\n",
       "      <td>283192000</td>\n",
       "      <td>0.005288</td>\n",
       "    </tr>\n",
       "  </tbody>\n",
       "</table>\n",
       "</div>"
      ],
      "text/plain": [
       "                 Open       High        Low      Close  Adj Close     Volume  \\\n",
       "Date                                                                           \n",
       "2016-01-04  25.652500  26.342501  25.500000  26.337500  24.286833  270597600   \n",
       "2016-01-05  26.437500  26.462500  25.602501  25.677500  23.678219  223164000   \n",
       "2016-01-06  25.139999  25.592501  24.967501  25.174999  23.214844  273829600   \n",
       "2016-01-07  24.670000  25.032499  24.107500  24.112499  22.235069  324377600   \n",
       "2016-01-08  24.637501  24.777500  24.190001  24.240000  22.352642  283192000   \n",
       "\n",
       "            Daily Returns  \n",
       "Date                       \n",
       "2016-01-04       0.000855  \n",
       "2016-01-05      -0.025059  \n",
       "2016-01-06      -0.019570  \n",
       "2016-01-07      -0.042205  \n",
       "2016-01-08       0.005288  "
      ]
     },
     "execution_count": 8,
     "metadata": {},
     "output_type": "execute_result"
    }
   ],
   "source": [
    "apple.head()"
   ]
  },
  {
   "cell_type": "code",
   "execution_count": 9,
   "metadata": {},
   "outputs": [
    {
     "data": {
      "text/plain": [
       "0.018700009230664717"
      ]
     },
     "execution_count": 9,
     "metadata": {},
     "output_type": "execute_result"
    }
   ],
   "source": [
    "apple['Daily Returns'].std()"
   ]
  },
  {
   "cell_type": "code",
   "execution_count": 10,
   "metadata": {},
   "outputs": [
    {
     "data": {
      "text/plain": [
       "0.017014492907230318"
      ]
     },
     "execution_count": 10,
     "metadata": {},
     "output_type": "execute_result"
    }
   ],
   "source": [
    "msft['Daily Returns'].std()"
   ]
  },
  {
   "cell_type": "markdown",
   "metadata": {},
   "source": [
    "Function for Sharpe Ratio:\n",
    "Calculate Mean,\n",
    "Compute STD,\n",
    "Calculate Sharpe Ratio"
   ]
  },
  {
   "cell_type": "code",
   "execution_count": 11,
   "metadata": {},
   "outputs": [],
   "source": [
    "def compute_sharpe_ratio (data, risk_free_rate=0):\n",
    "    mean_return = data['Daily Returns'].mean()\n",
    "    std = data['Daily Returns'].std()\n",
    "\n",
    "    sharpe_ratio = (mean_return-risk_free_rate)/std\n",
    "\n",
    "    return sharpe_ratio"
   ]
  },
  {
   "cell_type": "code",
   "execution_count": 12,
   "metadata": {},
   "outputs": [
    {
     "data": {
      "text/plain": [
       "0.07745264297924775"
      ]
     },
     "execution_count": 12,
     "metadata": {},
     "output_type": "execute_result"
    }
   ],
   "source": [
    "apple_sharpe_ratio = compute_sharpe_ratio(apple)\n",
    "apple_sharpe_ratio"
   ]
  },
  {
   "cell_type": "code",
   "execution_count": 13,
   "metadata": {},
   "outputs": [
    {
     "data": {
      "text/plain": [
       "0.08222277302779334"
      ]
     },
     "execution_count": 13,
     "metadata": {},
     "output_type": "execute_result"
    }
   ],
   "source": [
    "msft_sharpe_ratio = compute_sharpe_ratio(msft)\n",
    "msft_sharpe_ratio"
   ]
  },
  {
   "cell_type": "code",
   "execution_count": 14,
   "metadata": {},
   "outputs": [
    {
     "data": {
      "text/plain": [
       "1.2295225902465745"
      ]
     },
     "execution_count": 14,
     "metadata": {},
     "output_type": "execute_result"
    }
   ],
   "source": [
    "#Annual Sharpe Ratio, we are using 252 becuase that is amount of trading days in the year.\n",
    "annual_sharpe_ratio_apple = apple_sharpe_ratio * np.sqrt(252)\n",
    "annual_sharpe_ratio_apple"
   ]
  },
  {
   "cell_type": "code",
   "execution_count": 15,
   "metadata": {},
   "outputs": [
    {
     "data": {
      "text/plain": [
       "1.3052460572259028"
      ]
     },
     "execution_count": 15,
     "metadata": {},
     "output_type": "execute_result"
    }
   ],
   "source": [
    "annual_sharpe_ratio_msft = msft_sharpe_ratio * np.sqrt(252)\n",
    "annual_sharpe_ratio_msft"
   ]
  },
  {
   "cell_type": "code",
   "execution_count": 16,
   "metadata": {},
   "outputs": [
    {
     "data": {
      "text/plain": [
       "<Axes: xlabel='Date'>"
      ]
     },
     "execution_count": 16,
     "metadata": {},
     "output_type": "execute_result"
    },
    {
     "data": {
      "image/png": "[encoded data removed]",
      "text/plain": [
       "<Figure size 640x480 with 1 Axes>"
      ]
     },
     "metadata": {},
     "output_type": "display_data"
    }
   ],
   "source": [
    "apple['Adj Close'].plot()"
   ]
  },
  {
   "cell_type": "code",
   "execution_count": 17,
   "metadata": {},
   "outputs": [
    {
     "data": {
      "text/plain": [
       "<Axes: xlabel='Date'>"
      ]
     },
     "execution_count": 17,
     "metadata": {},
     "output_type": "execute_result"
    },
    {
     "data": {
      "image/png": "[encoded data removed]",
      "text/plain": [
       "<Figure size 640x480 with 1 Axes>"
      ]
     },
     "metadata": {},
     "output_type": "display_data"
    }
   ],
   "source": [
    "msft['Adj Close'].plot()"
   ]
  },
  {
   "cell_type": "markdown",
   "metadata": {},
   "source": [
    "Bitcoin Sharpe Ratio"
   ]
  },
  {
   "cell_type": "code",
   "execution_count": 18,
   "metadata": {},
   "outputs": [],
   "source": [
    "import yfinance as yf\n",
    "from datetime import datetime\n",
    "from datetime import date,timedelta"
   ]
  },
  {
   "cell_type": "code",
   "execution_count": 19,
   "metadata": {},
   "outputs": [],
   "source": [
    "today = date.today()\n",
    "\n",
    "d1 = today.strftime('%Y-%m-%d')\n",
    "end_date = d1\n",
    "d2 = date.today() - timedelta(days=730)\n",
    "d2 = d2.strftime('%Y-%m-%d')\n",
    "start_date = d2"
   ]
  },
  {
   "cell_type": "code",
   "execution_count": 20,
   "metadata": {},
   "outputs": [
    {
     "data": {
      "text/html": [
       "<div>\n",
       "<style scoped>\n",
       "    .dataframe tbody tr th:only-of-type {\n",
       "        vertical-align: middle;\n",
       "    }\n",
       "\n",
       "    .dataframe tbody tr th {\n",
       "        vertical-align: top;\n",
       "    }\n",
       "\n",
       "    .dataframe thead th {\n",
       "        text-align: right;\n",
       "    }\n",
       "</style>\n",
       "<table border=\"1\" class=\"dataframe\">\n",
       "  <thead>\n",
       "    <tr style=\"text-align: right;\">\n",
       "      <th></th>\n",
       "      <th>Open</th>\n",
       "      <th>High</th>\n",
       "      <th>Low</th>\n",
       "      <th>Close</th>\n",
       "      <th>Adj Close</th>\n",
       "      <th>Volume</th>\n",
       "      <th>Date</th>\n",
       "    </tr>\n",
       "    <tr>\n",
       "      <th>Date</th>\n",
       "      <th></th>\n",
       "      <th></th>\n",
       "      <th></th>\n",
       "      <th></th>\n",
       "      <th></th>\n",
       "      <th></th>\n",
       "      <th></th>\n",
       "    </tr>\n",
       "  </thead>\n",
       "  <tbody>\n",
       "    <tr>\n",
       "      <th>2022-03-12</th>\n",
       "      <td>38794.464844</td>\n",
       "      <td>39308.597656</td>\n",
       "      <td>38772.535156</td>\n",
       "      <td>38904.011719</td>\n",
       "      <td>38904.011719</td>\n",
       "      <td>14616450657</td>\n",
       "      <td>2022-03-12</td>\n",
       "    </tr>\n",
       "    <tr>\n",
       "      <th>2022-03-13</th>\n",
       "      <td>38884.726562</td>\n",
       "      <td>39209.351562</td>\n",
       "      <td>37728.144531</td>\n",
       "      <td>37849.664062</td>\n",
       "      <td>37849.664062</td>\n",
       "      <td>17300745310</td>\n",
       "      <td>2022-03-13</td>\n",
       "    </tr>\n",
       "    <tr>\n",
       "      <th>2022-03-14</th>\n",
       "      <td>37846.316406</td>\n",
       "      <td>39742.500000</td>\n",
       "      <td>37680.734375</td>\n",
       "      <td>39666.753906</td>\n",
       "      <td>39666.753906</td>\n",
       "      <td>24322159070</td>\n",
       "      <td>2022-03-14</td>\n",
       "    </tr>\n",
       "    <tr>\n",
       "      <th>2022-03-15</th>\n",
       "      <td>39664.250000</td>\n",
       "      <td>39794.628906</td>\n",
       "      <td>38310.210938</td>\n",
       "      <td>39338.785156</td>\n",
       "      <td>39338.785156</td>\n",
       "      <td>23934000868</td>\n",
       "      <td>2022-03-15</td>\n",
       "    </tr>\n",
       "    <tr>\n",
       "      <th>2022-03-16</th>\n",
       "      <td>39335.570312</td>\n",
       "      <td>41465.453125</td>\n",
       "      <td>39022.347656</td>\n",
       "      <td>41143.929688</td>\n",
       "      <td>41143.929688</td>\n",
       "      <td>39616916192</td>\n",
       "      <td>2022-03-16</td>\n",
       "    </tr>\n",
       "  </tbody>\n",
       "</table>\n",
       "</div>"
      ],
      "text/plain": [
       "                    Open          High           Low         Close  \\\n",
       "Date                                                                 \n",
       "2022-03-12  38794.464844  39308.597656  38772.535156  38904.011719   \n",
       "2022-03-13  38884.726562  39209.351562  37728.144531  37849.664062   \n",
       "2022-03-14  37846.316406  39742.500000  37680.734375  39666.753906   \n",
       "2022-03-15  39664.250000  39794.628906  38310.210938  39338.785156   \n",
       "2022-03-16  39335.570312  41465.453125  39022.347656  41143.929688   \n",
       "\n",
       "               Adj Close       Volume       Date  \n",
       "Date                                              \n",
       "2022-03-12  38904.011719  14616450657 2022-03-12  \n",
       "2022-03-13  37849.664062  17300745310 2022-03-13  \n",
       "2022-03-14  39666.753906  24322159070 2022-03-14  \n",
       "2022-03-15  39338.785156  23934000868 2022-03-15  \n",
       "2022-03-16  41143.929688  39616916192 2022-03-16  "
      ]
     },
     "execution_count": 20,
     "metadata": {},
     "output_type": "execute_result"
    }
   ],
   "source": [
    "bitcoin = yf.download('BTC-USD', start = start_date, end = end_date, progress=False)\n",
    "bitcoin['Date'] = bitcoin.index\n",
    "data = bitcoin[[\"Date\", \"Open\", \"High\", \"Low\", \"Close\", \"Adj Close\", \"Volume\"]]\n",
    "data.reset_index(drop=True, inplace=True)\n",
    "bitcoin.head()\n",
    " "
   ]
  },
  {
   "cell_type": "code",
   "execution_count": 21,
   "metadata": {},
   "outputs": [
    {
     "data": {
      "text/html": [
       "<div>\n",
       "<style scoped>\n",
       "    .dataframe tbody tr th:only-of-type {\n",
       "        vertical-align: middle;\n",
       "    }\n",
       "\n",
       "    .dataframe tbody tr th {\n",
       "        vertical-align: top;\n",
       "    }\n",
       "\n",
       "    .dataframe thead th {\n",
       "        text-align: right;\n",
       "    }\n",
       "</style>\n",
       "<table border=\"1\" class=\"dataframe\">\n",
       "  <thead>\n",
       "    <tr style=\"text-align: right;\">\n",
       "      <th></th>\n",
       "      <th>Open</th>\n",
       "      <th>High</th>\n",
       "      <th>Low</th>\n",
       "      <th>Close</th>\n",
       "      <th>Adj Close</th>\n",
       "      <th>Volume</th>\n",
       "      <th>Date</th>\n",
       "      <th>Daily Returns</th>\n",
       "    </tr>\n",
       "    <tr>\n",
       "      <th>Date</th>\n",
       "      <th></th>\n",
       "      <th></th>\n",
       "      <th></th>\n",
       "      <th></th>\n",
       "      <th></th>\n",
       "      <th></th>\n",
       "      <th></th>\n",
       "      <th></th>\n",
       "    </tr>\n",
       "  </thead>\n",
       "  <tbody>\n",
       "    <tr>\n",
       "      <th>2022-03-12</th>\n",
       "      <td>38794.464844</td>\n",
       "      <td>39308.597656</td>\n",
       "      <td>38772.535156</td>\n",
       "      <td>38904.011719</td>\n",
       "      <td>38904.011719</td>\n",
       "      <td>14616450657</td>\n",
       "      <td>2022-03-12</td>\n",
       "      <td>NaN</td>\n",
       "    </tr>\n",
       "    <tr>\n",
       "      <th>2022-03-13</th>\n",
       "      <td>38884.726562</td>\n",
       "      <td>39209.351562</td>\n",
       "      <td>37728.144531</td>\n",
       "      <td>37849.664062</td>\n",
       "      <td>37849.664062</td>\n",
       "      <td>17300745310</td>\n",
       "      <td>2022-03-13</td>\n",
       "      <td>-0.027101</td>\n",
       "    </tr>\n",
       "    <tr>\n",
       "      <th>2022-03-14</th>\n",
       "      <td>37846.316406</td>\n",
       "      <td>39742.500000</td>\n",
       "      <td>37680.734375</td>\n",
       "      <td>39666.753906</td>\n",
       "      <td>39666.753906</td>\n",
       "      <td>24322159070</td>\n",
       "      <td>2022-03-14</td>\n",
       "      <td>0.048008</td>\n",
       "    </tr>\n",
       "    <tr>\n",
       "      <th>2022-03-15</th>\n",
       "      <td>39664.250000</td>\n",
       "      <td>39794.628906</td>\n",
       "      <td>38310.210938</td>\n",
       "      <td>39338.785156</td>\n",
       "      <td>39338.785156</td>\n",
       "      <td>23934000868</td>\n",
       "      <td>2022-03-15</td>\n",
       "      <td>-0.008268</td>\n",
       "    </tr>\n",
       "    <tr>\n",
       "      <th>2022-03-16</th>\n",
       "      <td>39335.570312</td>\n",
       "      <td>41465.453125</td>\n",
       "      <td>39022.347656</td>\n",
       "      <td>41143.929688</td>\n",
       "      <td>41143.929688</td>\n",
       "      <td>39616916192</td>\n",
       "      <td>2022-03-16</td>\n",
       "      <td>0.045887</td>\n",
       "    </tr>\n",
       "  </tbody>\n",
       "</table>\n",
       "</div>"
      ],
      "text/plain": [
       "                    Open          High           Low         Close  \\\n",
       "Date                                                                 \n",
       "2022-03-12  38794.464844  39308.597656  38772.535156  38904.011719   \n",
       "2022-03-13  38884.726562  39209.351562  37728.144531  37849.664062   \n",
       "2022-03-14  37846.316406  39742.500000  37680.734375  39666.753906   \n",
       "2022-03-15  39664.250000  39794.628906  38310.210938  39338.785156   \n",
       "2022-03-16  39335.570312  41465.453125  39022.347656  41143.929688   \n",
       "\n",
       "               Adj Close       Volume       Date  Daily Returns  \n",
       "Date                                                             \n",
       "2022-03-12  38904.011719  14616450657 2022-03-12            NaN  \n",
       "2022-03-13  37849.664062  17300745310 2022-03-13      -0.027101  \n",
       "2022-03-14  39666.753906  24322159070 2022-03-14       0.048008  \n",
       "2022-03-15  39338.785156  23934000868 2022-03-15      -0.008268  \n",
       "2022-03-16  41143.929688  39616916192 2022-03-16       0.045887  "
      ]
     },
     "execution_count": 21,
     "metadata": {},
     "output_type": "execute_result"
    }
   ],
   "source": [
    "#Daily returns\n",
    "bitcoin['Daily Returns'] = bitcoin['Adj Close'].pct_change(1)\n",
    "bitcoin.head()"
   ]
  },
  {
   "cell_type": "code",
   "execution_count": 22,
   "metadata": {},
   "outputs": [],
   "source": [
    "bitcoin = bitcoin.dropna()"
   ]
  },
  {
   "cell_type": "code",
   "execution_count": 23,
   "metadata": {},
   "outputs": [],
   "source": [
    "def compute_sharpe_ratio (data,risk_free = 0):\n",
    "    mean_btc = bitcoin['Daily Returns'].mean()\n",
    "    std_btc = bitcoin['Daily Returns'].std()\n",
    "    sharpe_ratio = (mean_btc-risk_free)/std_btc\n",
    "\n",
    "    return sharpe_ratio"
   ]
  },
  {
   "cell_type": "code",
   "execution_count": 24,
   "metadata": {},
   "outputs": [
    {
     "data": {
      "text/plain": [
       "0.042327328953060746"
      ]
     },
     "execution_count": 24,
     "metadata": {},
     "output_type": "execute_result"
    }
   ],
   "source": [
    "compute_sharpe_ratio(bitcoin)"
   ]
  },
  {
   "cell_type": "code",
   "execution_count": 26,
   "metadata": {},
   "outputs": [
    {
     "data": {
      "text/plain": [
       "0.671925516428536"
      ]
     },
     "execution_count": 26,
     "metadata": {},
     "output_type": "execute_result"
    }
   ],
   "source": [
    "annual_sharpe_ratio_btc = compute_sharpe_ratio(bitcoin) * np.sqrt(252)\n",
    "annual_sharpe_ratio_btc"
   ]
  },
  {
   "cell_type": "code",
   "execution_count": 27,
   "metadata": {},
   "outputs": [
    {
     "data": {
      "text/plain": [
       "<Axes: xlabel='Date'>"
      ]
     },
     "execution_count": 27,
     "metadata": {},
     "output_type": "execute_result"
    },
    {
     "data": {
      "image/png": "[encoded data removed]",
      "text/plain": [
       "<Figure size 640x480 with 1 Axes>"
      ]
     },
     "metadata": {},
     "output_type": "display_data"
    }
   ],
   "source": [
    "bitcoin['Adj Close'].plot()"
   ]
  }
 ],
 "metadata": {
  "kernelspec": {
   "display_name": "base",
   "language": "python",
   "name": "python3"
  },
  "language_info": {
   "codemirror_mode": {
    "name": "ipython",
    "version": 3
   },
   "file_extension": ".py",
   "mimetype": "text/x-python",
   "name": "python",
   "nbconvert_exporter": "python",
   "pygments_lexer": "ipython3",
   "version": "3.10.11"
  }
 },
 "nbformat": 4,
 "nbformat_minor": 2
}
